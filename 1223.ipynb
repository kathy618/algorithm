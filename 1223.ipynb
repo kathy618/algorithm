{
  "nbformat": 4,
  "nbformat_minor": 0,
  "metadata": {
    "colab": {
      "name": "1223",
      "provenance": [],
      "authorship_tag": "ABX9TyNyQUn5TomKBZ/qCTzdfbp8",
      "include_colab_link": true
    },
    "kernelspec": {
      "name": "python3",
      "display_name": "Python 3"
    }
  },
  "cells": [
    {
      "cell_type": "markdown",
      "metadata": {
        "id": "view-in-github",
        "colab_type": "text"
      },
      "source": [
        "<a href=\"https://colab.research.google.com/github/kathy618/algorithm/blob/master/1223.ipynb\" target=\"_parent\"><img src=\"https://colab.research.google.com/assets/colab-badge.svg\" alt=\"Open In Colab\"/></a>"
      ]
    },
    {
      "cell_type": "markdown",
      "metadata": {
        "id": "vnQpFhE-cyFV"
      },
      "source": [
        "### **NP問題範例：集合覆蓋問題**"
      ]
    },
    {
      "cell_type": "markdown",
      "metadata": {
        "id": "4ZSSnT4Lc8Qf"
      },
      "source": [
        "**問題介紹**\r\n",
        "\r\n",
        "----\r\n",
        "\r\n",
        "假設你創建了一個電台，希望讓整個市區的人都聽到節目。\r\n",
        "\r\n",
        "然而這個城市有許多不同的電台公司，購買他們服務的電台可以讓自己的節目覆蓋某一塊區域，\r\n",
        "\r\n",
        "並且這些區域常常是重疊的，請問如何找出可以覆蓋全市最少的電台集合\r\n",
        "\r\n",
        "-----\r\n",
        "A站: 房山區','門頭溝區','密雲區'\r\n",
        "\r\n",
        "B站: 密雲區','大興區','東城區'\r\n",
        "\r\n",
        "C站: 朝陽區','延慶區','東城區'\r\n",
        "\r\n",
        "D站: 朝陽區','通州區','海澱區'\r\n",
        "\r\n",
        "E站: 通州區','懷柔區','延慶區','海澱區'\r\n",
        "\r\n",
        "F站: 房山區','門頭溝區'\r\n",
        "\r\n",
        "G站: 房山區','石景山區','門頭溝區','昌平區'\r\n",
        "\r\n"
      ]
    },
    {
      "cell_type": "markdown",
      "metadata": {
        "id": "SzpRNHDKdl8y"
      },
      "source": [
        "## **解法**\r\n",
        "---\r\n",
        "\r\n",
        "1.\t選出能覆蓋最多未覆蓋部分的廣播台\r\n",
        "2.\t重複第一步知道覆蓋了所有部分\r\n",
        "\r\n",
        "這個採用貪婪策略的近似演算法的速度是O(n^2)，其中n是廣播台的數量。比起找到冪集然後比較的演算法\r\n",
        "\r\n",
        "這種演算法的執行時間要快的多。如果它能得到一個與最優解相當接近的近似解，那麼它就是一個好的近似演算法\r\n",
        "\r\n",
        "首先，我們來創建城市的模型，我們選擇集合來表示：\r\n",
        "\r\n",
        "city = set(['朝陽區','房山區','東城區','海澱區','門頭溝區','密雲區','昌平區','大興區','通州區','懷柔區','延慶區','石景山區'])\r\n",
        "\r\n",
        "\r\n",
        "下面我們使用散清單建立廣播電臺的模型：\r\n",
        "\r\n",
        "broadcasting_station = {}\r\n",
        "\r\n",
        "broadcasting_station['A站'] = set(['房山區','門頭溝區','密雲區'])\r\n",
        "\r\n",
        "broadcasting_station['B站'] = set(['密雲區','大興區','東城區'])\r\n",
        "\r\n",
        "broadcasting_station['C站'] = set(['朝陽區','延慶區','東城區'])\r\n",
        "\r\n",
        "broadcasting_station['D站'] = set(['朝陽區','通州區','海澱區'])\r\n",
        "\r\n",
        "broadcasting_station['E站'] = set(['通州區','懷柔區','延慶區','海澱區'])\r\n",
        "\r\n",
        "broadcasting_station['F站'] = set(['房山區','門頭溝區'])\r\n",
        "\r\n",
        "broadcasting_station['G站'] = set(['房山區','石景山區','門頭溝區','昌平區'])\r\n",
        "\r\n"
      ]
    },
    {
      "cell_type": "markdown",
      "metadata": {
        "id": "ggXzZr7Zdyaa"
      },
      "source": [
        "## **程式解**\r\n",
        "-----\r\n",
        "運行函數，可以看到使用貪婪演算法，我們得到的最優解是\r\n",
        "{'C站', 'B站', 'G站', 'E站'}"
      ]
    },
    {
      "cell_type": "code",
      "metadata": {
        "colab": {
          "base_uri": "https://localhost:8080/"
        },
        "id": "NUhQyhKhk9h1",
        "outputId": "08e5f249-66fe-489b-8511-b4c0ca0c7c09"
      },
      "source": [
        "# 首先，創建一個列表，其中包含要覆蓋的州\r\n",
        "states_needed = set(['朝陽區','房山區','東城區','海澱區','門頭溝區','密雲區','昌平區','大興區','通州區','懷柔區','延慶區','石景山區'])\r\n",
        " \r\n",
        "# 還需要有可供選擇的廣播台清單\r\n",
        "stations = {}\r\n",
        "stations['A站'] = set(['房山區','門頭溝區','密雲區'])\r\n",
        "stations['B站'] = set(['密雲區','大興區','東城區'])\r\n",
        "stations['C站'] = set(['朝陽區','延慶區','東城區'])\r\n",
        "stations['D站'] = set(['朝陽區','通州區','海澱區'])\r\n",
        "stations['E站'] = set(['通州區','懷柔區','延慶區','海澱區'])\r\n",
        "stations['F站'] = set(['房山區','門頭溝區'])\r\n",
        "stations['G站'] = set(['房山區','石景山區','門頭溝區','昌平區'])\r\n",
        "\r\n",
        "# 最後，需要使用一個集合來存儲最終選擇的廣播台\r\n",
        "final_stations = set()\r\n",
        " \r\n",
        "# 需要遍歷所有廣播台，從中選擇覆蓋了最多的未覆蓋州的廣播台。\r\n",
        "while states_needed:\r\n",
        "    best_station = None # 覆蓋了最多的未覆蓋州的廣播台\r\n",
        "    states_covered = set() # 包含該廣播台覆蓋的所有未覆蓋的州\r\n",
        "    for station, states_for_station in stations.items():\r\n",
        "        covered = states_needed & states_for_station  # 計算交集\r\n",
        "        if len(covered) > len(states_covered):\r\n",
        "            best_station = station\r\n",
        "            states_covered = covered\r\n",
        " \r\n",
        "    states_needed -= states_covered\r\n",
        "    final_stations.add(best_station)\r\n",
        " \r\n",
        "print(final_stations)"
      ],
      "execution_count": 40,
      "outputs": [
        {
          "output_type": "stream",
          "text": [
            "{'E站', 'B站', 'G站', 'C站'}\n"
          ],
          "name": "stdout"
        }
      ]
    },
    {
      "cell_type": "markdown",
      "metadata": {
        "id": "PNAjpcPFh-ws"
      },
      "source": [
        "參考資料 https://blog.csdn.net/weixin_43628432/article/details/104331284"
      ]
    }
  ]
}