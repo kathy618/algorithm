{
  "nbformat": 4,
  "nbformat_minor": 0,
  "metadata": {
    "colab": {
      "name": "HashingSearch.ipynb",
      "provenance": [],
      "collapsed_sections": [],
      "authorship_tag": "ABX9TyPkTgP+RtQpZZbt3hy6S75Q",
      "include_colab_link": true
    },
    "kernelspec": {
      "name": "python3",
      "display_name": "Python 3"
    }
  },
  "cells": [
    {
      "cell_type": "markdown",
      "metadata": {
        "id": "view-in-github",
        "colab_type": "text"
      },
      "source": [
        "<a href=\"https://colab.research.google.com/github/kathy618/algorithm/blob/master/HashingSearch.ipynb\" target=\"_parent\"><img src=\"https://colab.research.google.com/assets/colab-badge.svg\" alt=\"Open In Colab\"/></a>"
      ]
    },
    {
      "cell_type": "markdown",
      "metadata": {
        "id": "ma60o_PMA8Wa"
      },
      "source": [
        "線性探測法"
      ]
    },
    {
      "cell_type": "code",
      "metadata": {
        "id": "gliUCJy2HL-D",
        "outputId": "42d1c733-5134-4691-f228-b4c8df7e329e",
        "colab": {
          "base_uri": "https://localhost:8080/",
          "height": 223
        }
      },
      "source": [
        "import random\n",
        "\n",
        "INDEXBOX=10 #雜湊表最大元素\n",
        "MAXNUM=7  #最大資料個數\n",
        "\n",
        "def print_data(data,max_number):\n",
        "  print('\\t',end='')\n",
        "  for i in range(max_number):\n",
        "    print('[%2d]'%data[i],end='')\n",
        "  print()\n",
        "\n",
        "def create_table(num,index):\n",
        "  tmp=num%INDEXBOX\n",
        "  while True:\n",
        "    if index[tmp]==-1:\n",
        "      index[tmp]=num\n",
        "      break\n",
        "    else:\n",
        "      tmp=(tmp+1)%INDEXBOX\n",
        "\n",
        "#Main\n",
        "index=[None]*INDEXBOX\n",
        "data=[None]*MAXNUM\n",
        "\n",
        "print('原始陣列值:')\n",
        "for i in range(MAXNUM):\n",
        "  data[i]=random.randint(1,20)\n",
        "for i in range(INDEXBOX):\n",
        "  index[i]=-1\n",
        "print_data(data,MAXNUM)\n",
        "\n",
        "print('雜湊表內容:')\n",
        "for i in range(MAXNUM):\n",
        "  create_table(data[i],index)\n",
        "  print(' %2d=>'%data[i],end='')\n",
        "  print_data(index,INDEXBOX)\n",
        "\n",
        "print('完成雜湊表:')\n",
        "print_data(index,INDEXBOX)"
      ],
      "execution_count": 12,
      "outputs": [
        {
          "output_type": "stream",
          "text": [
            "原始陣列值:\n",
            "\t[12][17][ 9][19][15][17][15]\n",
            "雜湊表內容:\n",
            " 12=>\t[-1][-1][12][-1][-1][-1][-1][-1][-1][-1]\n",
            " 17=>\t[-1][-1][12][-1][-1][-1][-1][17][-1][-1]\n",
            "  9=>\t[-1][-1][12][-1][-1][-1][-1][17][-1][ 9]\n",
            " 19=>\t[19][-1][12][-1][-1][-1][-1][17][-1][ 9]\n",
            " 15=>\t[19][-1][12][-1][-1][15][-1][17][-1][ 9]\n",
            " 17=>\t[19][-1][12][-1][-1][15][-1][17][17][ 9]\n",
            " 15=>\t[19][-1][12][-1][-1][15][15][17][17][ 9]\n",
            "完成雜湊表:\n",
            "\t[19][-1][12][-1][-1][15][15][17][17][ 9]\n"
          ],
          "name": "stdout"
        }
      ]
    },
    {
      "cell_type": "markdown",
      "metadata": {
        "id": "46govFgZCJHJ"
      },
      "source": [
        "平方探測"
      ]
    },
    {
      "cell_type": "code",
      "metadata": {
        "id": "qSRkprJLHYy0",
        "outputId": "00e1b57b-384d-4e18-f4bf-b997157d4421",
        "colab": {
          "base_uri": "https://localhost:8080/",
          "height": 223
        }
      },
      "source": [
        "import random\n",
        "\n",
        "INDEXBOX=10 #雜湊表最大元素\n",
        "MAXNUM=7  #最大資料個數\n",
        "\n",
        "def print_data(data,max_number):\n",
        "  print('\\t',end='')\n",
        "  for i in range(max_number):\n",
        "    print('[%2d]'%data[i],end='')\n",
        "  print()\n",
        "  \n",
        "def create_table(num,index):\n",
        "  tmp=num%INDEXBOX\n",
        "  b=1\n",
        "  while True:\n",
        "    if index[tmp]==-1:\n",
        "      index[tmp]=num\n",
        "      break\n",
        "    else:\n",
        "      tmp=(tmp+b**2)%INDEXBOX\n",
        "      b=b+1\n",
        "#Main\n",
        "index=[None]*INDEXBOX\n",
        "data=[None]*MAXNUM\n",
        "\n",
        "print('原始陣列值:')\n",
        "for i in range(MAXNUM):\n",
        "  data[i]=random.randint(1,20)\n",
        "for i in range(INDEXBOX):\n",
        "  index[i]=-1\n",
        "print_data(data,MAXNUM)\n",
        "\n",
        "print('雜湊表內容:')\n",
        "for i in range(MAXNUM):\n",
        "  create_table(data[i],index)\n",
        "  print(' %2d=>'%data[i],end='')\n",
        "  print_data(index,INDEXBOX)\n",
        "\n",
        "print('完成雜湊表:')\n",
        "print_data(index,INDEXBOX)"
      ],
      "execution_count": 49,
      "outputs": [
        {
          "output_type": "stream",
          "text": [
            "原始陣列值:\n",
            "\t[ 6][ 8][18][ 5][ 1][19][10]\n",
            "雜湊表內容:\n",
            "  6=>\t[-1][-1][-1][-1][-1][-1][ 6][-1][-1][-1]\n",
            "  8=>\t[-1][-1][-1][-1][-1][-1][ 6][-1][ 8][-1]\n",
            " 18=>\t[-1][-1][-1][-1][-1][-1][ 6][-1][ 8][18]\n",
            "  5=>\t[-1][-1][-1][-1][-1][ 5][ 6][-1][ 8][18]\n",
            "  1=>\t[-1][ 1][-1][-1][-1][ 5][ 6][-1][ 8][18]\n",
            " 19=>\t[19][ 1][-1][-1][-1][ 5][ 6][-1][ 8][18]\n",
            " 10=>\t[19][ 1][-1][-1][10][ 5][ 6][-1][ 8][18]\n",
            "完成雜湊表:\n",
            "\t[19][ 1][-1][-1][10][ 5][ 6][-1][ 8][18]\n"
          ],
          "name": "stdout"
        }
      ]
    },
    {
      "cell_type": "markdown",
      "metadata": {
        "id": "iAkURktHCMqc"
      },
      "source": [
        "再雜湊"
      ]
    },
    {
      "cell_type": "code",
      "metadata": {
        "id": "eRKrGxnnQhRZ",
        "outputId": "6302b3b3-2949-498e-8b52-e53bc688a6f1",
        "colab": {
          "base_uri": "https://localhost:8080/",
          "height": 223
        }
      },
      "source": [
        "import random\n",
        "\n",
        "INDEXBOX=10 #雜湊表最大元素\n",
        "MAXNUM=7  #最大資料個數\n",
        "\n",
        "def print_data(data,max_number):\n",
        "  print('\\t',end='')\n",
        "  for i in range(max_number):\n",
        "    print('[%2d]'%data[i],end='')\n",
        "  print()\n",
        "  \n",
        "def create_table(num,index):\n",
        "  tmp=num%INDEXBOX\n",
        "  b=1\n",
        "  while True:\n",
        "    if index[tmp]==-1:\n",
        "      index[tmp]=num\n",
        "      break\n",
        "    else:\n",
        "      tmp=(tmp+2*b)%INDEXBOX #(else不能用for,這樣會跑太多)\n",
        "      b=b+1\n",
        "#Main\n",
        "index=[None]*INDEXBOX\n",
        "data=[None]*MAXNUM\n",
        "\n",
        "print('原始陣列值:')\n",
        "for i in range(MAXNUM):\n",
        "  data[i]=random.randint(1,20)\n",
        "for i in range(INDEXBOX):\n",
        "  index[i]=-1\n",
        "print_data(data,MAXNUM)\n",
        "\n",
        "print('雜湊表內容:')\n",
        "for i in range(MAXNUM):\n",
        "  create_table(data[i],index)\n",
        "  print(' %2d=>'%data[i],end='')\n",
        "  print_data(index,INDEXBOX)\n",
        "\n",
        "print('完成雜湊表:')\n",
        "print_data(index,INDEXBOX)"
      ],
      "execution_count": 53,
      "outputs": [
        {
          "output_type": "stream",
          "text": [
            "原始陣列值:\n",
            "\t[10][19][ 6][11][14][18][ 2]\n",
            "雜湊表內容:\n",
            " 10=>\t[10][-1][-1][-1][-1][-1][-1][-1][-1][-1]\n",
            " 19=>\t[10][-1][-1][-1][-1][-1][-1][-1][-1][19]\n",
            "  6=>\t[10][-1][-1][-1][-1][-1][ 6][-1][-1][19]\n",
            " 11=>\t[10][11][-1][-1][-1][-1][ 6][-1][-1][19]\n",
            " 14=>\t[10][11][-1][-1][14][-1][ 6][-1][-1][19]\n",
            " 18=>\t[10][11][-1][-1][14][-1][ 6][-1][18][19]\n",
            "  2=>\t[10][11][ 2][-1][14][-1][ 6][-1][18][19]\n",
            "完成雜湊表:\n",
            "\t[10][11][ 2][-1][14][-1][ 6][-1][18][19]\n"
          ],
          "name": "stdout"
        }
      ]
    }
  ]
}