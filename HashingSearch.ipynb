{
  "nbformat": 4,
  "nbformat_minor": 0,
  "metadata": {
    "colab": {
      "name": "HashingSearch.ipynb",
      "provenance": [],
      "collapsed_sections": [],
      "authorship_tag": "ABX9TyOukKp9IDUx7FQhuU5vJrT5",
      "include_colab_link": true
    },
    "kernelspec": {
      "name": "python3",
      "display_name": "Python 3"
    }
  },
  "cells": [
    {
      "cell_type": "markdown",
      "metadata": {
        "id": "view-in-github",
        "colab_type": "text"
      },
      "source": [
        "<a href=\"https://colab.research.google.com/github/kathy618/algorithm/blob/master/HashingSearch.ipynb\" target=\"_parent\"><img src=\"https://colab.research.google.com/assets/colab-badge.svg\" alt=\"Open In Colab\"/></a>"
      ]
    },
    {
      "cell_type": "markdown",
      "metadata": {
        "id": "ma60o_PMA8Wa"
      },
      "source": [
        "線性探測法"
      ]
    },
    {
      "cell_type": "code",
      "metadata": {
        "id": "gliUCJy2HL-D",
        "outputId": "42d1c733-5134-4691-f228-b4c8df7e329e",
        "colab": {
          "base_uri": "https://localhost:8080/",
          "height": 223
        }
      },
      "source": [
        "import random\n",
        "\n",
        "INDEXBOX=10 #雜湊表最大元素\n",
        "MAXNUM=7  #最大資料個數\n",
        "\n",
        "def print_data(data,max_number):\n",
        "  print('\\t',end='')\n",
        "  for i in range(max_number):\n",
        "    print('[%2d]'%data[i],end='')\n",
        "  print()\n",
        "\n",
        "def create_table(num,index):\n",
        "  tmp=num%INDEXBOX\n",
        "  while True:\n",
        "    if index[tmp]==-1:\n",
        "      index[tmp]=num\n",
        "      break\n",
        "    else:\n",
        "      tmp=(tmp+1)%INDEXBOX\n",
        "\n",
        "#Main\n",
        "index=[None]*INDEXBOX\n",
        "data=[None]*MAXNUM\n",
        "\n",
        "print('原始陣列值:')\n",
        "for i in range(MAXNUM):\n",
        "  data[i]=random.randint(1,20)\n",
        "for i in range(INDEXBOX):\n",
        "  index[i]=-1\n",
        "print_data(data,MAXNUM)\n",
        "\n",
        "print('雜湊表內容:')\n",
        "for i in range(MAXNUM):\n",
        "  create_table(data[i],index)\n",
        "  print(' %2d=>'%data[i],end='')\n",
        "  print_data(index,INDEXBOX)\n",
        "\n",
        "print('完成雜湊表:')\n",
        "print_data(index,INDEXBOX)"
      ],
      "execution_count": null,
      "outputs": [
        {
          "output_type": "stream",
          "text": [
            "原始陣列值:\n",
            "\t[12][17][ 9][19][15][17][15]\n",
            "雜湊表內容:\n",
            " 12=>\t[-1][-1][12][-1][-1][-1][-1][-1][-1][-1]\n",
            " 17=>\t[-1][-1][12][-1][-1][-1][-1][17][-1][-1]\n",
            "  9=>\t[-1][-1][12][-1][-1][-1][-1][17][-1][ 9]\n",
            " 19=>\t[19][-1][12][-1][-1][-1][-1][17][-1][ 9]\n",
            " 15=>\t[19][-1][12][-1][-1][15][-1][17][-1][ 9]\n",
            " 17=>\t[19][-1][12][-1][-1][15][-1][17][17][ 9]\n",
            " 15=>\t[19][-1][12][-1][-1][15][15][17][17][ 9]\n",
            "完成雜湊表:\n",
            "\t[19][-1][12][-1][-1][15][15][17][17][ 9]\n"
          ],
          "name": "stdout"
        }
      ]
    },
    {
      "cell_type": "markdown",
      "metadata": {
        "id": "46govFgZCJHJ"
      },
      "source": [
        "平方探測"
      ]
    },
    {
      "cell_type": "code",
      "metadata": {
        "id": "qSRkprJLHYy0",
        "outputId": "924eba69-9e4f-4eab-f167-084942b79b04",
        "colab": {
          "base_uri": "https://localhost:8080/",
          "height": 223
        }
      },
      "source": [
        "import random\n",
        "\n",
        "INDEXBOX=10 #雜湊表最大元素\n",
        "MAXNUM=7  #最大資料個數\n",
        "\n",
        "def print_data(data,max_number):\n",
        "  print('\\t',end='')\n",
        "  for i in range(max_number):\n",
        "    print('[%2d]'%data[i],end='')\n",
        "  print()\n",
        "  \n",
        "def create_table(num,index):\n",
        "  tmp=num%INDEXBOX\n",
        "  b=1\n",
        "  while True:\n",
        "    if index[tmp]==-1:\n",
        "      index[tmp]=num\n",
        "      break\n",
        "    else:\n",
        "      tmp=num%INDEXBOX\n",
        "      tmp=(tmp+b**2)%INDEXBOX\n",
        "      b=b+1\n",
        "#Main\n",
        "index=[None]*INDEXBOX\n",
        "data=[None]*MAXNUM\n",
        "\n",
        "print('原始陣列值:')\n",
        "for i in range(MAXNUM):\n",
        "  data[i]=random.randint(1,20)\n",
        "for i in range(INDEXBOX):\n",
        "  index[i]=-1\n",
        "print_data(data,MAXNUM)\n",
        "\n",
        "print('雜湊表內容:')\n",
        "for i in range(MAXNUM):\n",
        "  create_table(data[i],index)\n",
        "  print(' %2d=>'%data[i],end='')\n",
        "  print_data(index,INDEXBOX)\n",
        "\n",
        "print('完成雜湊表:')\n",
        "print_data(index,INDEXBOX)"
      ],
      "execution_count": 59,
      "outputs": [
        {
          "output_type": "stream",
          "text": [
            "原始陣列值:\n",
            "\t[ 1][ 2][18][11][ 4][18][14]\n",
            "雜湊表內容:\n",
            "  1=>\t[-1][ 1][-1][-1][-1][-1][-1][-1][-1][-1]\n",
            "  2=>\t[-1][ 1][ 2][-1][-1][-1][-1][-1][-1][-1]\n",
            " 18=>\t[-1][ 1][ 2][-1][-1][-1][-1][-1][18][-1]\n",
            " 11=>\t[-1][ 1][ 2][-1][-1][11][-1][-1][18][-1]\n",
            "  4=>\t[-1][ 1][ 2][-1][ 4][11][-1][-1][18][-1]\n",
            " 18=>\t[-1][ 1][ 2][-1][ 4][11][-1][-1][18][18]\n",
            " 14=>\t[-1][ 1][ 2][14][ 4][11][-1][-1][18][18]\n",
            "完成雜湊表:\n",
            "\t[-1][ 1][ 2][14][ 4][11][-1][-1][18][18]\n"
          ],
          "name": "stdout"
        }
      ]
    },
    {
      "cell_type": "markdown",
      "metadata": {
        "id": "iAkURktHCMqc"
      },
      "source": [
        "再雜湊"
      ]
    },
    {
      "cell_type": "code",
      "metadata": {
        "id": "eRKrGxnnQhRZ",
        "outputId": "50906296-9d71-4cd1-e5db-15cd02109662",
        "colab": {
          "base_uri": "https://localhost:8080/",
          "height": 223
        }
      },
      "source": [
        "import random\n",
        "\n",
        "INDEXBOX=10 #雜湊表最大元素\n",
        "MAXNUM=7  #最大資料個數\n",
        "\n",
        "def print_data(data,max_number):\n",
        "  print('\\t',end='')\n",
        "  for i in range(max_number):\n",
        "    print('[%2d]'%data[i],end='')\n",
        "  print()\n",
        "  \n",
        "def create_table(num,index):\n",
        "  tmp=num%INDEXBOX\n",
        "  b=1\n",
        "  while True:\n",
        "    if index[tmp]==-1:\n",
        "      index[tmp]=num\n",
        "      break\n",
        "    else:\n",
        "      tmp=num%INDEXBOX\n",
        "      tmp=(tmp+2*b)%INDEXBOX #(else不能用for,這樣會跑太多)\n",
        "      b=b+1\n",
        "#Main\n",
        "index=[None]*INDEXBOX\n",
        "data=[None]*MAXNUM\n",
        "\n",
        "print('原始陣列值:')\n",
        "for i in range(MAXNUM):\n",
        "  data[i]=random.randint(1,20)\n",
        "for i in range(INDEXBOX):\n",
        "  index[i]=-1\n",
        "print_data(data,MAXNUM)\n",
        "\n",
        "print('雜湊表內容:')\n",
        "for i in range(MAXNUM):\n",
        "  create_table(data[i],index)\n",
        "  print(' %2d=>'%data[i],end='')\n",
        "  print_data(index,INDEXBOX)\n",
        "\n",
        "print('完成雜湊表:')\n",
        "print_data(index,INDEXBOX)"
      ],
      "execution_count": 54,
      "outputs": [
        {
          "output_type": "stream",
          "text": [
            "原始陣列值:\n",
            "\t[17][ 2][12][ 4][ 7][ 1][13]\n",
            "雜湊表內容:\n",
            " 17=>\t[-1][-1][-1][-1][-1][-1][-1][17][-1][-1]\n",
            "  2=>\t[-1][-1][ 2][-1][-1][-1][-1][17][-1][-1]\n",
            " 12=>\t[-1][-1][ 2][-1][12][-1][-1][17][-1][-1]\n",
            "  4=>\t[-1][-1][ 2][-1][12][-1][ 4][17][-1][-1]\n",
            "  7=>\t[-1][-1][ 2][-1][12][-1][ 4][17][-1][ 7]\n",
            "  1=>\t[-1][ 1][ 2][-1][12][-1][ 4][17][-1][ 7]\n",
            " 13=>\t[-1][ 1][ 2][13][12][-1][ 4][17][-1][ 7]\n",
            "完成雜湊表:\n",
            "\t[-1][ 1][ 2][13][12][-1][ 4][17][-1][ 7]\n"
          ],
          "name": "stdout"
        }
      ]
    }
  ]
}