{
  "nbformat": 4,
  "nbformat_minor": 0,
  "metadata": {
    "colab": {
      "name": "終極密碼.ipynb",
      "provenance": [],
      "authorship_tag": "ABX9TyPu9ZJDU4e2/P3kF6AVe9To",
      "include_colab_link": true
    },
    "kernelspec": {
      "name": "python3",
      "display_name": "Python 3"
    }
  },
  "cells": [
    {
      "cell_type": "markdown",
      "metadata": {
        "id": "view-in-github",
        "colab_type": "text"
      },
      "source": [
        "<a href=\"https://colab.research.google.com/github/kathy618/algorithm/blob/master/%E7%B5%82%E6%A5%B5%E5%AF%86%E7%A2%BC.ipynb\" target=\"_parent\"><img src=\"https://colab.research.google.com/assets/colab-badge.svg\" alt=\"Open In Colab\"/></a>"
      ]
    },
    {
      "cell_type": "code",
      "metadata": {
        "id": "Nb7cOieZ_5wn",
        "outputId": "9c0e03b7-bfb7-4387-8af3-86411f77ed2e",
        "colab": {
          "base_uri": "https://localhost:8080/"
        }
      },
      "source": [
        "from random import randint\n",
        "\n",
        "lowest = 1            #選取範圍\n",
        "highest = 100\n",
        "answer = randint(lowest, highest)\n",
        "\n",
        "while True:\n",
        "    guess = input('密碼介於 ' + str(lowest) + '-' + str(highest) + ':\\n>>')\n",
        "    \n",
        "    #檢查輸入的內容是否為數字\n",
        "    try:\n",
        "        guess = int(guess)  #把字串轉換成整數\n",
        "    except ValueError:       #轉換失敗便要求重新輸入數字\n",
        "        print('格式錯誤，請輸入數字\\n')\n",
        "        continue\n",
        "    \n",
        "    #檢查輸入的數字是否介於規定範圍內\n",
        "    if guess <= lowest or guess >= highest:\n",
        "        print('請輸入 ' + str(lowest) + '-' + str(highest) + ' 之間的整數\\n')\n",
        "        continue\n",
        "    \n",
        "    #判斷有沒有猜中密碼\n",
        "    if guess == answer:\n",
        "        print('答對了！')\n",
        "        break       #猜對才跳脫迴圈\n",
        "    elif guess < answer:\n",
        "        lowest = guess\n",
        "    else:\n",
        "        highest = guess"
      ],
      "execution_count": null,
      "outputs": [
        {
          "output_type": "stream",
          "text": [
            "密碼介於 1-100:\n",
            ">>50  \n",
            "密碼介於 50-100:\n",
            ">>90\n",
            "密碼介於 50-90:\n",
            ">>95\n",
            "請輸入 50-90 之間的整數\n",
            "\n"
          ],
          "name": "stdout"
        }
      ]
    }
  ]
}