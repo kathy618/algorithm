{
  "nbformat": 4,
  "nbformat_minor": 0,
  "metadata": {
    "colab": {
      "name": "sequential_search",
      "provenance": [],
      "authorship_tag": "ABX9TyM4pzCBsIAFj2xLw9RhGRbW",
      "include_colab_link": true
    },
    "kernelspec": {
      "name": "python3",
      "display_name": "Python 3"
    }
  },
  "cells": [
    {
      "cell_type": "markdown",
      "metadata": {
        "id": "view-in-github",
        "colab_type": "text"
      },
      "source": [
        "<a href=\"https://colab.research.google.com/github/kathy618/algorithm/blob/master/sequential_search.ipynb\" target=\"_parent\"><img src=\"https://colab.research.google.com/assets/colab-badge.svg\" alt=\"Open In Colab\"/></a>"
      ]
    },
    {
      "cell_type": "code",
      "metadata": {
        "id": "PS8nT0WJw4CD",
        "outputId": "bdd3d44d-0701-4340-ad49-8de0f31df859",
        "colab": {
          "base_uri": "https://localhost:8080/",
          "height": 34
        }
      },
      "source": [
        "data = [20,31,50,17,16,36,19,8]\n",
        "\n",
        "def sequential_search(data, key):\n",
        "  for i in data:\n",
        "    if i == key:\n",
        "      print('找到了')\n",
        "      break\n",
        "sequential_search(data, 17)"
      ],
      "execution_count": 1,
      "outputs": [
        {
          "output_type": "stream",
          "text": [
            "找到了\n"
          ],
          "name": "stdout"
        }
      ]
    }
  ]
}