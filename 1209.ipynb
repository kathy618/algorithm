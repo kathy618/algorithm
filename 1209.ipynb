{
  "nbformat": 4,
  "nbformat_minor": 0,
  "metadata": {
    "colab": {
      "name": "1209",
      "provenance": [],
      "authorship_tag": "ABX9TyPsDiqFXSLfWhEQUQPHLjdi",
      "include_colab_link": true
    },
    "kernelspec": {
      "name": "python3",
      "display_name": "Python 3"
    }
  },
  "cells": [
    {
      "cell_type": "markdown",
      "metadata": {
        "id": "view-in-github",
        "colab_type": "text"
      },
      "source": [
        "<a href=\"https://colab.research.google.com/github/kathy618/algorithm/blob/master/1209.ipynb\" target=\"_parent\"><img src=\"https://colab.research.google.com/assets/colab-badge.svg\" alt=\"Open In Colab\"/></a>"
      ]
    },
    {
      "cell_type": "code",
      "metadata": {
        "id": "DJvnxDARkM8z"
      },
      "source": [
        "INT_MIN = -2147483647\r\n",
        "  \r\n",
        "# Returns the best obtainable price for a rod of length n and \r\n",
        "# price[] as prices of different pieces \r\n",
        "def cutRod(price, n): \r\n",
        "    val = [0 for x in range(n + 1)] \r\n",
        "    val[0] = 0\r\n",
        "  \r\n",
        "    # Build the table val[] in bottom up manner and return \r\n",
        "    # the last entry from the table \r\n",
        "    for i in range(1, n + 1): \r\n",
        "        max_val = INT_MIN \r\n",
        "        for j in range(i): \r\n",
        "             max_val = max(max_val, price[j] + val[i-j-1]) \r\n",
        "        val[i] = max_val \r\n",
        "  \r\n",
        "    return val[n] \r\n",
        "  \r\n",
        "# Driver program to test above functions \r\n",
        "arr = [1, 5, 8, 9, 10, 17, 17, 20, 24,30] \r\n",
        "size = int(input(\"輸入一個數字\"))\r\n",
        "print(\"最多可以賺\"  + str(cutRod(arr, size))) "
      ],
      "execution_count": null,
      "outputs": []
    }
  ]
}