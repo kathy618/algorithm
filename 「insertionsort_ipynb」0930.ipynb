{
  "nbformat": 4,
  "nbformat_minor": 0,
  "metadata": {
    "colab": {
      "name": "「insertionsort.ipynb」0930",
      "provenance": [],
      "collapsed_sections": [],
      "include_colab_link": true
    },
    "kernelspec": {
      "name": "python3",
      "display_name": "Python 3"
    }
  },
  "cells": [
    {
      "cell_type": "markdown",
      "metadata": {
        "id": "view-in-github",
        "colab_type": "text"
      },
      "source": [
        "<a href=\"https://colab.research.google.com/github/kathy618/algorithm/blob/master/%E3%80%8Cinsertionsort_ipynb%E3%80%8D0930.ipynb\" target=\"_parent\"><img src=\"https://colab.research.google.com/assets/colab-badge.svg\" alt=\"Open In Colab\"/></a>"
      ]
    },
    {
      "cell_type": "markdown",
      "metadata": {
        "id": "j95w6SLwOC0z"
      },
      "source": [
        "Insertion sort (插入排序)"
      ]
    },
    {
      "cell_type": "code",
      "metadata": {
        "id": "BxBaYEwzNj_v",
        "outputId": "bb698296-1b7a-4712-8612-e9051ef928b4",
        "colab": {
          "base_uri": "https://localhost:8080/",
          "height": 204
        }
      },
      "source": [
        "\n",
        "def Insertion_Sort(datas):\n",
        "    for i in range(1, len(datas)):        #n \n",
        "        for j in range(i):                #n^2\n",
        "            current = datas[i]            #1\n",
        "            if current < datas[j]:        \n",
        "                for k in range(i,j):      #n^3\n",
        "                  print(datas)\n",
        "    return datas                          #1\n",
        "\n",
        "\n",
        "def insertionSort(arr):\n",
        "    for i in range(len(arr)):             #n\n",
        "        preIndex = i-1                    #1\n",
        "        current = arr[i]                  #1\n",
        "        while preIndex >= 0 and arr[preIndex] > current:\n",
        "            arr[preIndex+1] = arr[preIndex] #1\n",
        "            preIndex-=1                   #1\n",
        "        arr[preIndex+1] = current         #1\n",
        "        print(arr)\n",
        "    return arr                            #1\n",
        "\n",
        "if __name__ == '__main__':\n",
        "    import random\n",
        "    a = list(range(10))\n",
        "    random.shuffle(a)\n",
        "    b = a.copy()\n",
        "\n",
        "    arr = insertionSort(a)\n",
        "    print('---'*10)\n",
        "    Insertion_Sort(b)"
      ],
      "execution_count": null,
      "outputs": [
        {
          "output_type": "stream",
          "text": [
            "[5, 7, 8, 6, 3, 0, 1, 9, 2, 4]\n",
            "[5, 7, 8, 6, 3, 0, 1, 9, 2, 4]\n",
            "[5, 7, 8, 6, 3, 0, 1, 9, 2, 4]\n",
            "[5, 6, 7, 8, 3, 0, 1, 9, 2, 4]\n",
            "[3, 5, 6, 7, 8, 0, 1, 9, 2, 4]\n",
            "[0, 3, 5, 6, 7, 8, 1, 9, 2, 4]\n",
            "[0, 1, 3, 5, 6, 7, 8, 9, 2, 4]\n",
            "[0, 1, 3, 5, 6, 7, 8, 9, 2, 4]\n",
            "[0, 1, 2, 3, 5, 6, 7, 8, 9, 4]\n",
            "[0, 1, 2, 3, 4, 5, 6, 7, 8, 9]\n",
            "------------------------------\n"
          ],
          "name": "stdout"
        }
      ]
    },
    {
      "cell_type": "markdown",
      "metadata": {
        "id": "NJ9ItGc3o5CA"
      },
      "source": [
        "total n^3+n^2+2n+8 (效率)"
      ]
    }
  ]
}