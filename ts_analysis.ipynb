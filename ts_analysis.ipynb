{
  "nbformat": 4,
  "nbformat_minor": 0,
  "metadata": {
    "colab": {
      "name": "ts_analysis.ipynb",
      "provenance": [],
      "collapsed_sections": [],
      "authorship_tag": "ABX9TyNXO31VCmY2FIRM0NBfHjCi",
      "include_colab_link": true
    },
    "kernelspec": {
      "name": "python3",
      "display_name": "Python 3"
    }
  },
  "cells": [
    {
      "cell_type": "markdown",
      "metadata": {
        "id": "view-in-github",
        "colab_type": "text"
      },
      "source": [
        "<a href=\"https://colab.research.google.com/github/kathy618/algorithm/blob/master/ts_analysis.ipynb\" target=\"_parent\"><img src=\"https://colab.research.google.com/assets/colab-badge.svg\" alt=\"Open In Colab\"/></a>"
      ]
    },
    {
      "cell_type": "markdown",
      "metadata": {
        "id": "r4cr_dGa39i5"
      },
      "source": [
        "時間換空間\n"
      ]
    },
    {
      "cell_type": "code",
      "metadata": {
        "id": "rgQNuVfr45Dd",
        "outputId": "8455c0fd-f03c-4cda-b911-2e6e012ab30d",
        "colab": {
          "base_uri": "https://localhost:8080/"
        }
      },
      "source": [
        "year = int(input(\"輸入一個年份：\"))\n",
        "if (year % 4) == 0 and (year % 100) !=0 or (year % 400) == 0:  #判斷是不是閏年的方式\n",
        "  print(\"%s年是閏年\" % year)                                    #除400跟4都可以 但100不可以\n",
        "else:\n",
        "  print(\"%s年不是閏年\" % year)        #其餘的都不是\n"
      ],
      "execution_count": 8,
      "outputs": [
        {
          "output_type": "stream",
          "text": [
            "輸入一個年份：2020\n",
            "2020年是閏年\n"
          ],
          "name": "stdout"
        }
      ]
    },
    {
      "cell_type": "markdown",
      "metadata": {
        "id": "Hiiaa6CbC35h"
      },
      "source": [
        "空間換時間"
      ]
    },
    {
      "cell_type": "code",
      "metadata": {
        "id": "90E6pT83faEf",
        "outputId": "a08de75b-409c-475b-ba21-5c1aade92045",
        "colab": {
          "base_uri": "https://localhost:8080/"
        }
      },
      "source": [
        "year = [2000,2004,2008,2012,2016,2020,2024,2028,2032,2036,2040]  #選取區間內所有的閏年\n",
        "a = int(input(\"輸入一個年份：\"))\n",
        "if a in year:           #如果輸入的數在year串列內就是閏年\n",
        "  print('%s是閏年'%a)\n",
        "else:\n",
        "  print('%s不是閏年'%a)  #否則就不是閏年"
      ],
      "execution_count": 7,
      "outputs": [
        {
          "output_type": "stream",
          "text": [
            "輸入一個年份：2001\n",
            "2001不是閏年\n"
          ],
          "name": "stdout"
        }
      ]
    },
    {
      "cell_type": "code",
      "metadata": {
        "id": "mWt0lVqMUi_U",
        "outputId": "ce393051-84c6-47dd-a278-7be620c25cf0",
        "colab": {
          "base_uri": "https://localhost:8080/"
        }
      },
      "source": [
        "for i in range(2000,2041):   #選區間(2000~2040)\n",
        "  if i%4==0 and i%100!=0 or i%400==0:  #閏年算法\n",
        "    print(i)   #求出區間所有閏年\n",
        "\n",
        " \n",
        "         "
      ],
      "execution_count": 5,
      "outputs": [
        {
          "output_type": "stream",
          "text": [
            "2000\n",
            "2004\n",
            "2008\n",
            "2012\n",
            "2016\n",
            "2020\n",
            "2024\n",
            "2028\n",
            "2032\n",
            "2036\n",
            "2040\n"
          ],
          "name": "stdout"
        }
      ]
    }
  ]
}