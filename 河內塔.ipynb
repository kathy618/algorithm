{
  "nbformat": 4,
  "nbformat_minor": 0,
  "metadata": {
    "colab": {
      "name": "河內塔",
      "provenance": [],
      "collapsed_sections": [],
      "authorship_tag": "ABX9TyPKuXLv7JdCSuC01CAA1CPO",
      "include_colab_link": true
    },
    "kernelspec": {
      "name": "python3",
      "display_name": "Python 3"
    }
  },
  "cells": [
    {
      "cell_type": "markdown",
      "metadata": {
        "id": "view-in-github",
        "colab_type": "text"
      },
      "source": [
        "<a href=\"https://colab.research.google.com/github/kathy618/algorithm/blob/master/%E6%B2%B3%E5%85%A7%E5%A1%94.ipynb\" target=\"_parent\"><img src=\"https://colab.research.google.com/assets/colab-badge.svg\" alt=\"Open In Colab\"/></a>"
      ]
    },
    {
      "cell_type": "code",
      "metadata": {
        "id": "VVnZOB-cASLL",
        "outputId": "3babc2df-7efd-48c1-9c04-66a3ada6e831",
        "colab": {
          "base_uri": "https://localhost:8080/"
        }
      },
      "source": [
        "sum = 0\n",
        "def factorial(n):\n",
        "   if n==1:\n",
        "     return 1\n",
        "   return n * f(n-1)\n",
        "def Hanoi(n , a, b, c):\n",
        "  if n==1:\n",
        "    global sum\n",
        "    sum += 1\n",
        "    print ( sum, a, \"-->\", c)\n",
        "    return\n",
        "  Hanoi(n-1, a, c, b)\n",
        "  Hanoi(1, a, b, c)\n",
        "  Hanoi(n-1, b, a, c)\n",
        "\n",
        "def initialize():\n",
        "  global num\n",
        "  num = 1\n",
        "\n",
        "print(\" 如果盒內塔內有5個盤子\")\n",
        "Hanoi(5, 'A', 'B', 'C')\n",
        "print(sum)"
      ],
      "execution_count": 57,
      "outputs": [
        {
          "output_type": "stream",
          "text": [
            " 如果盒內塔內有5個盤子\n",
            "1 A --> C\n",
            "2 A --> B\n",
            "3 C --> B\n",
            "4 A --> C\n",
            "5 B --> A\n",
            "6 B --> C\n",
            "7 A --> C\n",
            "8 A --> B\n",
            "9 C --> B\n",
            "10 C --> A\n",
            "11 B --> A\n",
            "12 C --> B\n",
            "13 A --> C\n",
            "14 A --> B\n",
            "15 C --> B\n",
            "16 A --> C\n",
            "17 B --> A\n",
            "18 B --> C\n",
            "19 A --> C\n",
            "20 B --> A\n",
            "21 C --> B\n",
            "22 C --> A\n",
            "23 B --> A\n",
            "24 B --> C\n",
            "25 A --> C\n",
            "26 A --> B\n",
            "27 C --> B\n",
            "28 A --> C\n",
            "29 B --> A\n",
            "30 B --> C\n",
            "31 A --> C\n",
            "31\n"
          ],
          "name": "stdout"
        }
      ]
    }
  ]
}