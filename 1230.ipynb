{
  "nbformat": 4,
  "nbformat_minor": 0,
  "metadata": {
    "colab": {
      "name": "1230",
      "provenance": [],
      "authorship_tag": "ABX9TyO9qPVEAW+EuF6qEjXkq1v9",
      "include_colab_link": true
    },
    "kernelspec": {
      "name": "python3",
      "display_name": "Python 3"
    }
  },
  "cells": [
    {
      "cell_type": "markdown",
      "metadata": {
        "id": "view-in-github",
        "colab_type": "text"
      },
      "source": [
        "<a href=\"https://colab.research.google.com/github/kathy618/algorithm/blob/master/1230.ipynb\" target=\"_parent\"><img src=\"https://colab.research.google.com/assets/colab-badge.svg\" alt=\"Open In Colab\"/></a>"
      ]
    },
    {
      "cell_type": "markdown",
      "metadata": {
        "id": "eNNfWsNrj3gz"
      },
      "source": [
        "![Tree-Traversals-DFS.png](data:image/png;base64,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)"
      ]
    },
    {
      "cell_type": "code",
      "metadata": {
        "colab": {
          "base_uri": "https://localhost:8080/"
        },
        "id": "7IZl-sT-eZyo",
        "outputId": "2552a76b-3cbf-4ad2-9613-3a3c86c98883"
      },
      "source": [
        "def enqueue(a, o):\r\n",
        "    a.insert(0, o)\r\n",
        "\r\n",
        "def dequeue(a):\r\n",
        "    return a.pop()\r\n",
        "\r\n",
        "g = { #  graph: 被搜尋的網路\r\n",
        "    '1': {'n':['2','3'], 'v':0}, #  n: neighbor (鄰居), v: visited (是否被訪問過)\r\n",
        "    '2': {'n':['4','5'], 'v':0},\r\n",
        "    '3': {'n':['6','7'], 'v':0},\r\n",
        "    '4': {'n':[], 'v':0},\r\n",
        "    '5': {'n':[], 'v':0},\r\n",
        "    '6': {'n':[], 'v':0},\r\n",
        "    '7': {'n':[], 'v':0},\r\n",
        "   \r\n",
        "}\r\n",
        "\r\n",
        "def init(g): #  初始化、設定 visited 為 0\r\n",
        "    for i in g:\r\n",
        "        g[i]['v'] = 0\r\n",
        "\r\n",
        "def dfs(g, node): #  深度優先搜尋\r\n",
        "    if g[node]['v']!=0:           #  如果已訪問過，就不再訪問\r\n",
        "        return\r\n",
        "    print(node, '=> ', end = '')  #  否則、印出節點\r\n",
        "    g[node]['v'] = 1              #    並設定為已訪問\r\n",
        "    neighbors = g[node]['n']      # 取出鄰居節點\r\n",
        "    for n in neighbors:           #  對於每個鄰居\r\n",
        "        dfs(g, n)                 #    逐一進行訪問\r\n",
        "\r\n",
        "queue=['1'] #  BFS 用的 queue, 起始點為 1。\r\n",
        "\r\n",
        "def bfs(g, q): #  廣度優先搜尋\r\n",
        "    if len(q)==0:                 #  如果 queue 已空，則返回。\r\n",
        "        return\r\n",
        "    node = dequeue(q)             #  否則、取出 queue 的第一個節點。\r\n",
        "    if g[node]['v'] == 0:         #  如果該節點尚未拜訪過。\r\n",
        "        g[node]['v'] = 1          #    標示為已拜訪\r\n",
        "    else:                         #  否則 (已訪問過)\r\n",
        "        return                    #    不繼續搜尋，直接返回。\r\n",
        "    print(node, '=> ', end = '')  #  印出節點\r\n",
        "    neighbors = g[node]['n']      #  取出鄰居。\r\n",
        "    for n in neighbors: #  對於每個鄰居\r\n",
        "        if not g[n]['v']:         #  假如該鄰居還沒被拜訪過\r\n",
        "            enqueue(q, n)         #    就放入 queue 中\r\n",
        "    bfs(g, q)\r\n",
        "\r\n",
        "print('dfs:', end = '')\r\n",
        "init(g)\r\n",
        "dfs(g, '1') # 呼叫深度優先搜尋。\r\n",
        "print('')\r\n",
        "\r\n",
        "print('bfs:', end = '')\r\n",
        "init(g)\r\n",
        "bfs(g, queue) # 呼叫廣度優先搜尋。\r\n",
        "print('')"
      ],
      "execution_count": 20,
      "outputs": [
        {
          "output_type": "stream",
          "text": [
            "dfs:1 => 2 => 4 => 5 => 3 => 6 => 7 => \n",
            "bfs:1 => 2 => 3 => 4 => 5 => 6 => 7 => \n"
          ],
          "name": "stdout"
        }
      ]
    }
  ]
}