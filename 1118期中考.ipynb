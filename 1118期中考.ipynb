{
  "nbformat": 4,
  "nbformat_minor": 0,
  "metadata": {
    "colab": {
      "name": "1118期中考",
      "provenance": [],
      "collapsed_sections": [],
      "authorship_tag": "ABX9TyMxHxLdaD3t3SN9nZgvAGFv",
      "include_colab_link": true
    },
    "kernelspec": {
      "name": "python3",
      "display_name": "Python 3"
    }
  },
  "cells": [
    {
      "cell_type": "markdown",
      "metadata": {
        "id": "view-in-github",
        "colab_type": "text"
      },
      "source": [
        "<a href=\"https://colab.research.google.com/github/kathy618/algorithm/blob/master/1118%E6%9C%9F%E4%B8%AD%E8%80%83.ipynb\" target=\"_parent\"><img src=\"https://colab.research.google.com/assets/colab-badge.svg\" alt=\"Open In Colab\"/></a>"
      ]
    },
    {
      "cell_type": "markdown",
      "metadata": {
        "id": "ej7ce8LzX1Jl"
      },
      "source": [
        "插入排序法（小到大）"
      ]
    },
    {
      "cell_type": "code",
      "metadata": {
        "colab": {
          "base_uri": "https://localhost:8080/"
        },
        "id": "UOx8NISqXlTy",
        "outputId": "16a80cd6-7b2b-4b24-8358-c766da8abe90"
      },
      "source": [
        "def Insertion_Sort(datas):            #定義插入排序資料\n",
        "    for i in range(1, len(datas)):       \n",
        "        for j in range(i):                \n",
        "          current = datas[i]    \n",
        "          if current < datas[j]:        \n",
        "            for k in range(i,j):       \n",
        "              print(datas)\n",
        "    return datas                          \n",
        "\n",
        "def insertionSort(arr):              #定義插入排序串列\n",
        "    for i in range(len(arr)):             \n",
        "        preIndex = i-1               #將序列中的數字分兩個區塊，已排序和未排序      \n",
        "        current = arr[i]             #初始已排序只有一个元素，就是序列的第一个元素    \n",
        "        while preIndex >= 0 and arr[preIndex] > current: #取未排序中的元素，在已排序中找到適合插入的位置將其插入，且保證已排序數字一直有序\n",
        "            arr[preIndex+1] = arr[preIndex] \n",
        "            preIndex -= 1                   \n",
        "            arr[preIndex+1] = current   #重複這個過程，直到未排序中元素為空，算法结束      \n",
        "        print(arr)\n",
        "    return arr                           \n",
        "\n",
        "if __name__ == '__main__':\n",
        "    import random\n",
        "    b = []\n",
        "    for i in range(0,8):            #選8個數字\n",
        "      a = random.randint(0,100)     #隨機從1~100的數字裡選\n",
        "      b += [a]\n",
        "    random.shuffle(b)\n",
        "    c = b.copy()\n",
        "\n",
        "    arr = insertionSort(b)\n",
        "    Insertion_Sort(c)"
      ],
      "execution_count": 43,
      "outputs": [
        {
          "output_type": "stream",
          "text": [
            "[23, 46, 92, 95, 9, 84, 62, 14]\n",
            "[23, 46, 92, 95, 9, 84, 62, 14]\n",
            "[23, 46, 92, 95, 9, 84, 62, 14]\n",
            "[23, 46, 92, 95, 9, 84, 62, 14]\n",
            "[9, 23, 46, 92, 95, 84, 62, 14]\n",
            "[9, 23, 46, 84, 92, 95, 62, 14]\n",
            "[9, 23, 46, 62, 84, 92, 95, 14]\n",
            "[9, 14, 23, 46, 62, 84, 92, 95]\n"
          ],
          "name": "stdout"
        }
      ]
    },
    {
      "cell_type": "markdown",
      "metadata": {
        "id": "pZrjoZuWX5I5"
      },
      "source": [
        "選擇排序法（大到小）"
      ]
    },
    {
      "cell_type": "code",
      "metadata": {
        "colab": {
          "base_uri": "https://localhost:8080/"
        },
        "id": "OPzPuuhMX7S7",
        "outputId": "63204c1c-7a39-48ce-81d1-8d10fa37bd73"
      },
      "source": [
        "def Selction_Sort(datas):\n",
        "    for i in range(len(datas)-1):                                       \n",
        "        max = i                             # 第一次選從第一個數開始,第二次從第二個數開始                 \n",
        "        for j in range(i+1, len(datas)):    # 用記錄的max數與其他的比較    \n",
        "            if datas[j] > datas[max]:       #從未排序的數列中找到最小的元素\n",
        "                max = j                     \n",
        "        datas[i], datas[max] = datas[max], datas[i]  #將此元素與已排序部分的尾端元素進行交換                  \n",
        "        print(datas)                                 \n",
        "    return datas     #重複以上動作直到未排序數列全部處理完成                                                  \n",
        "\n",
        "\n",
        "if __name__ == '__main__':\n",
        "    import random\n",
        "    b = []\n",
        "    for i in range(0,8):              #選8個數字\n",
        "      a = random.randint(0,100)       #隨機從1~100的數字裡選\n",
        "      b += [a]\n",
        "    random.shuffle(b)\n",
        "    print(b)\n",
        "    b = Selction_Sort(b)"
      ],
      "execution_count": 24,
      "outputs": [
        {
          "output_type": "stream",
          "text": [
            "[85, 21, 64, 51, 90, 86, 50, 32]\n",
            "[90, 21, 64, 51, 85, 86, 50, 32]\n",
            "[90, 86, 64, 51, 85, 21, 50, 32]\n",
            "[90, 86, 85, 51, 64, 21, 50, 32]\n",
            "[90, 86, 85, 64, 51, 21, 50, 32]\n",
            "[90, 86, 85, 64, 51, 21, 50, 32]\n",
            "[90, 86, 85, 64, 51, 50, 21, 32]\n",
            "[90, 86, 85, 64, 51, 50, 32, 21]\n"
          ],
          "name": "stdout"
        }
      ]
    }
  ]
}