{
  "nbformat": 4,
  "nbformat_minor": 0,
  "metadata": {
    "colab": {
      "name": "1202.ipynb",
      "provenance": [],
      "collapsed_sections": [],
      "authorship_tag": "ABX9TyN2C7cIePSPr1yz9tqpTAqy",
      "include_colab_link": true
    },
    "kernelspec": {
      "name": "python3",
      "display_name": "Python 3"
    }
  },
  "cells": [
    {
      "cell_type": "markdown",
      "metadata": {
        "id": "view-in-github",
        "colab_type": "text"
      },
      "source": [
        "<a href=\"https://colab.research.google.com/github/kathy618/algorithm/blob/master/1202.ipynb\" target=\"_parent\"><img src=\"https://colab.research.google.com/assets/colab-badge.svg\" alt=\"Open In Colab\"/></a>"
      ]
    },
    {
      "cell_type": "markdown",
      "metadata": {
        "id": "fBkVgR8zOfN-"
      },
      "source": [
        "貪婪法"
      ]
    },
    {
      "cell_type": "code",
      "metadata": {
        "colab": {
          "base_uri": "https://localhost:8080/"
        },
        "id": "pTz2PVQtMiGF",
        "outputId": "6c7d13d1-7f84-439b-f182-530d5023bbbb"
      },
      "source": [
        "#t = 面額\n",
        "t = [25, 20, 5, 1]\n",
        "\n",
        "#n = 多少錢\n",
        "def change(t,n):\n",
        "  m = [0 for _ in range(len(t))]\n",
        "  for i, money in enumerate(t):\n",
        "    print(m)\n",
        "    m[i] = n // money\n",
        "    n = n % money\n",
        "  return m,n\n",
        "\n",
        "a = int(input(\"輸入金額\"))\n",
        "print(change(t,a))"
      ],
      "execution_count": null,
      "outputs": [
        {
          "output_type": "stream",
          "text": [
            "輸入金額300\n",
            "[0, 0, 0, 0]\n",
            "[12, 0, 0, 0]\n",
            "[12, 0, 0, 0]\n",
            "[12, 0, 0, 0]\n",
            "([12, 0, 0, 0], 0)\n"
          ],
          "name": "stdout"
        }
      ]
    },
    {
      "cell_type": "markdown",
      "metadata": {
        "id": "dTylJMIKOj9s"
      },
      "source": [
        "動態規劃"
      ]
    },
    {
      "cell_type": "code",
      "metadata": {
        "id": "TaeP5fKCOmTP",
        "colab": {
          "base_uri": "https://localhost:8080/"
        },
        "outputId": "9479dcf6-9a9a-4a07-d7c5-772a70b28f13"
      },
      "source": [
        "def count(S, m, n): \n",
        "    # 建表時我們需要n + 1行\n",
        "    # 使用基本案例0值以自下而上的方式\n",
        "    # case (n = 0) \n",
        "    table = [[0 for x in range(m)] for x in range(n+1)] \n",
        "  \n",
        "    # 填寫0值大小寫的項目（n = 0）\n",
        "    for i in range(m): \n",
        "        table[0][i] = 1\n",
        "  \n",
        "    # 以自下而上的方式填充其餘表項\n",
        "    for i in range(1, n+1): \n",
        "        for j in range(m): \n",
        "  \n",
        "            # Count of solutions including S[j] \n",
        "            x = table[i - S[j]][j] if i-S[j] >= 0 else 0\n",
        "  \n",
        "            # Count of solutions excluding S[j] \n",
        "            y = table[i][j-1] if j >= 1 else 0\n",
        "  \n",
        "            # total count \n",
        "            table[i][j] = x + y \n",
        "  \n",
        "    return table[n][m-1] \n",
        "  \n",
        "t = [25, 20, 5, 1] \n",
        "m = len(t) \n",
        "n = int(input(\"輸入金額\"))\n",
        "\n",
        "print(change(t,n)) "
      ],
      "execution_count": null,
      "outputs": [
        {
          "output_type": "stream",
          "text": [
            "輸入金額500\n",
            "[0, 0, 0, 0]\n",
            "[20, 0, 0, 0]\n",
            "[20, 0, 0, 0]\n",
            "[20, 0, 0, 0]\n",
            "([20, 0, 0, 0], 0)\n"
          ],
          "name": "stdout"
        }
      ]
    },
    {
      "cell_type": "markdown",
      "metadata": {
        "id": "DyuGoo6FT2rQ"
      },
      "source": [
        "貪婪法(包包)"
      ]
    },
    {
      "cell_type": "code",
      "metadata": {
        "colab": {
          "base_uri": "https://localhost:8080/"
        },
        "id": "cqE--EnMT60t",
        "outputId": "a1901986-38d2-4ca0-cbce-b0842b834d67"
      },
      "source": [
        "class itmcls(object):\n",
        "    def __init__(self, name, val, vol):\n",
        "        self.name = name\n",
        "        self.val = val\n",
        "        self.vol = vol\n",
        "        \n",
        "    def getvalue(self):\n",
        "        return self.val\n",
        "    \n",
        "    def getvol(self):\n",
        "        return self.vol\n",
        "    \n",
        "    def density(self):\n",
        "        return (self.val)/(self.vol)\n",
        "    \n",
        "    def __str__(self):\n",
        "        return self.name \n",
        "  \n",
        "# Defining a function for building a bag  \n",
        "def buildbag(names, values, volumes):\n",
        "    bag = []\n",
        "    for i in range(len(names)):\n",
        "        bag.append(itmcls(names[i], values[i], volumes[i]))\n",
        "    return bag\n",
        "    \n",
        "#實現貪婪法選擇最佳之一\n",
        "def greedy(items, maxvol, keyfunction):\n",
        "    itemscopy = sorted(items, key = keyfunction, reverse = True)\n",
        "    \n",
        "    result = []\n",
        "    totalval = 0 \n",
        "    totalvol = 0\n",
        "    \n",
        "    for i in range(len(items)):\n",
        "        if (totalvol + itemscopy[i].getvol() <= maxvol):\n",
        "            result.append(itemscopy[i])\n",
        "            totalval = totalval + itemscopy[i].getvalue()\n",
        "            totalvol = totalvol + itemscopy[i].getvol()\n",
        "            \n",
        "    return (result, totalval)\n",
        " \n",
        "\n",
        "itemlist = ['ps5', 'ipad pro12', 'macbook pro15', 'homepod', 'macmini']\n",
        "values = [17000,35000,60000,9000,20000]\n",
        "volume = [5,1,4,3,2]\n",
        "itemlistt = buildbag(itemlist, values, volume)\n",
        "maxvol = 10\n",
        " \n",
        "taken, totvalue = greedy(itemlistt, max, itmcls.density)\n",
        " \n",
        "print('Total vaule taken : ', totvalue)\n",
        " \n",
        "#打印項目的最佳值\n",
        "for i in range(len(taken)):\n",
        "    print('  ', taken[i])"
      ],
      "execution_count": null,
      "outputs": [
        {
          "output_type": "stream",
          "text": [
            "Total vaule taken :  124000\n",
            "   ipad pro12\n",
            "   macbook pro15\n",
            "   macmini\n",
            "   homepod\n"
          ],
          "name": "stdout"
        }
      ]
    },
    {
      "cell_type": "markdown",
      "metadata": {
        "id": "04f5RfWhdAO4"
      },
      "source": [
        "動態規劃(包包)"
      ]
    },
    {
      "cell_type": "code",
      "metadata": {
        "id": "GKlL3cFIdClc",
        "colab": {
          "base_uri": "https://localhost:8080/"
        },
        "outputId": "18efc042-1e64-41db-8111-1c66d55f1faa"
      },
      "source": [
        "val =[17000,35000,60000,9000,20000]\n",
        "wt = [5,1,4,3,2] \n",
        "W = 10\n",
        "n = len(val) \n",
        "  \n",
        "# 首先以-1初始化矩陣\n",
        "t = [[-1 for i in range(W + 1)] for j in range(n + 1)] \n",
        "  \n",
        "  \n",
        "def knapsack(wt, val, W, n): \n",
        "  \n",
        "    # base conditions \n",
        "    if n == 0 or W == 0: \n",
        "        return 0\n",
        "    if t[n][W] != -1: \n",
        "        return t[n][W] \n",
        "  \n",
        "    # choice diagram code \n",
        "    if wt[n-1] <= W: \n",
        "        t[n][W] = max( \n",
        "            val[n-1] + knapsack( \n",
        "                wt, val, W-wt[n-1], n-1), \n",
        "            knapsack(wt, val, W, n-1)) \n",
        "        return t[n][W] \n",
        "    elif wt[n-1] > W: \n",
        "        t[n][W] = knapsack(wt, val, W, n-1) \n",
        "        return t[n][W] \n",
        "  \n",
        "  \n",
        "print(knapsack(wt, val, W, n)) "
      ],
      "execution_count": 72,
      "outputs": [
        {
          "output_type": "stream",
          "text": [
            "124000\n"
          ],
          "name": "stdout"
        }
      ]
    }
  ]
}