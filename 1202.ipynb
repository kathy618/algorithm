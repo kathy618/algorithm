{
  "nbformat": 4,
  "nbformat_minor": 0,
  "metadata": {
    "colab": {
      "name": "1202.ipynb",
      "provenance": [],
      "authorship_tag": "ABX9TyO4DDTijLHyUMu6o7oCDR97",
      "include_colab_link": true
    },
    "kernelspec": {
      "name": "python3",
      "display_name": "Python 3"
    }
  },
  "cells": [
    {
      "cell_type": "markdown",
      "metadata": {
        "id": "view-in-github",
        "colab_type": "text"
      },
      "source": [
        "<a href=\"https://colab.research.google.com/github/kathy618/algorithm/blob/master/1202.ipynb\" target=\"_parent\"><img src=\"https://colab.research.google.com/assets/colab-badge.svg\" alt=\"Open In Colab\"/></a>"
      ]
    },
    {
      "cell_type": "code",
      "metadata": {
        "colab": {
          "base_uri": "https://localhost:8080/"
        },
        "id": "pQaTk-TlJISV",
        "outputId": "c1672f76-a667-4d66-febc-abb9a73f0950"
      },
      "source": [
        "#t = 面額\n",
        "t = [25, 20, 5, 1]\n",
        "\n",
        "#n = 多少錢\n",
        "def change(t,n):\n",
        "  m = [0 for _ in range(len(t))]\n",
        "  for i, money in enumerate(t):\n",
        "    print(m)\n",
        "    m[i] = n // money\n",
        "    n = n % money\n",
        "  return m,n\n",
        "\n",
        "print(change(t,41))"
      ],
      "execution_count": 14,
      "outputs": [
        {
          "output_type": "stream",
          "text": [
            "[0, 0, 0, 0]\n",
            "[1, 0, 0, 0]\n",
            "[1, 0, 0, 0]\n",
            "[1, 0, 3, 0]\n",
            "([1, 0, 3, 1], 0)\n"
          ],
          "name": "stdout"
        }
      ]
    },
    {
      "cell_type": "code",
      "metadata": {
        "colab": {
          "base_uri": "https://localhost:8080/"
        },
        "id": "pTz2PVQtMiGF",
        "outputId": "39aa24ad-bca9-4ae3-ba0d-ad4b7999adc4"
      },
      "source": [
        "#t = 面額\n",
        "t = [25, 20, 5, 1]\n",
        "\n",
        "#n = 多少錢\n",
        "def change(t,n):\n",
        "  m = [0 for _ in range(len(t))]\n",
        "  for i, money in enumerate(t):\n",
        "    print(m)\n",
        "    m[i] = n // money\n",
        "    n = n % money\n",
        "  return m,n\n",
        "\n",
        "a = int(input(\"輸入金額\"))\n",
        "print(change(t,a))"
      ],
      "execution_count": 18,
      "outputs": [
        {
          "output_type": "stream",
          "text": [
            "輸入金額205\n",
            "[0, 0, 0, 0]\n",
            "[8, 0, 0, 0]\n",
            "[8, 0, 0, 0]\n",
            "[8, 0, 1, 0]\n",
            "([8, 0, 1, 0], 0)\n"
          ],
          "name": "stdout"
        }
      ]
    }
  ]
}